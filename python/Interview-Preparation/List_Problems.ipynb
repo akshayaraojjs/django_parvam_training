{
  "cells": [
    {
      "cell_type": "markdown",
      "metadata": {
        "id": "d1zldwJD6Y52"
      },
      "source": [
        "**Finding Min & Max numbers from the List**"
      ]
    },
    {
      "cell_type": "code",
      "execution_count": null,
      "metadata": {
        "colab": {
          "base_uri": "https://localhost:8080/"
        },
        "id": "fxjcoV4vouFb",
        "outputId": "57a23064-da66-427b-e9d7-4eb747d0c412"
      },
      "outputs": [
        {
          "name": "stdout",
          "output_type": "stream",
          "text": [
            "Max: 23\n",
            "Min: 1\n"
          ]
        }
      ],
      "source": [
        "nums = [4, 2, 9, 1, 7, 10, 23] # list of some numbers\n",
        "print(\"Max:\", max(nums)) # Inbuilt method - min & max\n",
        "print(\"Min:\", min(nums))"
      ]
    },
    {
      "cell_type": "markdown",
      "metadata": {
        "id": "mit5YrGB6iq4"
      },
      "source": [
        "Taking Input"
      ]
    },
    {
      "cell_type": "code",
      "execution_count": null,
      "metadata": {
        "colab": {
          "base_uri": "https://localhost:8080/"
        },
        "id": "Hg3n5dsd6qFs",
        "outputId": "34dd8603-bfaa-44a4-a92c-0596b0cbaafd"
      },
      "outputs": [
        {
          "name": "stdout",
          "output_type": "stream",
          "text": [
            "Enter some numbers5 2 3 4 7 8 1\n",
            "5 2 3 4 7 8 1\n",
            "Smallest Number:  \n"
          ]
        }
      ],
      "source": [
        "number_list = input(\"Enter some numbers\") # Take input from the user using input method\n",
        "print(number_list) # While taking input from the user all inputs are considered as String\n",
        "num_list = list(number_list) # Converting the String input to List\n",
        "# print(type(number_list), type(num_list))\n",
        "# print(\"Largest Number:\", max(num_list))\n",
        "print(\"Smallest Number:\", min(num_list))"
      ]
    },
    {
      "cell_type": "markdown",
      "metadata": {
        "id": "rQPVnsZi6ppr"
      },
      "source": [
        "**Reversing a list without using reverse() method**"
      ]
    },
    {
      "cell_type": "code",
      "execution_count": null,
      "metadata": {
        "colab": {
          "base_uri": "https://localhost:8080/"
        },
        "id": "P5FJoQq49hUC",
        "outputId": "c8e3f2a7-2182-46fb-d249-c968c4b538ba"
      },
      "outputs": [
        {
          "name": "stdout",
          "output_type": "stream",
          "text": [
            "['Eagle', 'Dog', 'Cat', 'Ball', 'Apple']\n"
          ]
        }
      ],
      "source": [
        "# nums = [1, 2, 3, 4, 5] # list\n",
        "# nums = [10, 20, 30, 40, 50] # list of numbers\n",
        "nums = [\"Apple\", \"Ball\", \"Cat\", \"Dog\", \"Eagle\"] # list of numbers\n",
        "reversed_list = [] # empty list\n",
        "for i in nums:\n",
        "    # print(i, reversed_list, [i] + reversed_list)\n",
        "    reversed_list = [i] + reversed_list # Each item has been added as list and then added with reversed_list\n",
        "print(reversed_list)\n",
        "\n",
        "# list1 = [1, 2, 3]\n",
        "# list2 = [4, 5, 6]\n",
        "# list1_2 = list1 + list2\n",
        "# list2_1 = list2 + list1\n",
        "# print(\"List 1 + List 2\", list1_2)\n",
        "# print(\"List 2 + List 1\", list2_1)\n",
        "\n",
        "# i => [i] + reversed_list\n",
        "\n",
        "# For Numbers\n",
        "# Step 1: reversed_list = empty, i = 10, [10] + [] => [10]\n",
        "# Step 2: reversed_list = [10], i = 20, [20] + [10] => [20, 10]\n",
        "# Step 3: reversed_list = [20, 10], i = 30, [30] + [20, 10] => [30, 20, 10]\n",
        "# Step 4: reversed_list = [30, 20, 10], i = 40, [40] + [30, 20, 10] => [40, 30, 20, 10]\n",
        "# Step 5: reversed_list = [40, 30, 20, 10], i = 50, [50] + [40, 30, 20, 10] => [50, 40, 30, 20, 10]\n",
        "\n",
        "# For Strings\n",
        "# Step 1: reversed_list = empty, i = A, [A] + [] => [A]\n",
        "# Step 2: reversed_list = [A], i = B, [B] + [A] => [B, A]\n",
        "# Step 3: reversed_list = [B, A], i = C, [C] + [B, A] => [C, B, A]\n",
        "# Step 4: reversed_list = [C, B, A], i = D, [D] + [C, B, A] => [D, C, B, A]\n",
        "# Step 5: reversed_list = [D, C, B, A], i = E, [E] + [D, C, B, A] => [E, D, C, B, A]"
      ]
    },
    {
      "cell_type": "code",
      "execution_count": null,
      "metadata": {
        "colab": {
          "base_uri": "https://localhost:8080/"
        },
        "id": "XAu57JnaAZkS",
        "outputId": "68a6f109-4470-4442-9b82-8a35d9a396ea"
      },
      "outputs": [
        {
          "name": "stdout",
          "output_type": "stream",
          "text": [
            "[2, 4, 6, 8, 3, 6, 9, 12]\n",
            "[3, 6, 9, 12, 2, 4, 6, 8]\n",
            "Temperory List: []\n",
            "Type of Data: <class 'list'>\n",
            "Item: 2\n",
            "Item within list: [2]\n",
            "Item: 4\n",
            "Item within list: [4]\n",
            "Item: 6\n",
            "Item within list: [6]\n",
            "Item: 8\n",
            "Item within list: [8]\n",
            "[2, 4, 6, 8]\n"
          ]
        }
      ],
      "source": [
        "a = [2, 4 , 6, 8]\n",
        "b = [3, 6 , 9, 12]\n",
        "print(a + b) # a + b => first 'a' list then 'b' list\n",
        "print(b + a)\n",
        "temp = []\n",
        "print(\"Temperory List:\",temp)\n",
        "print(\"Type of Data:\", type(temp))\n",
        "for item in a:\n",
        " print(\"Item:\",item) # only item\n",
        " print(\"Item within list:\", [item]) # item added to the list\n",
        "#  temp.append(item)\n",
        " temp = [item] + temp # [2] + [] => [2], [4] + [2] => [4, 2]"
      ]
    },
    {
      "cell_type": "markdown",
      "metadata": {
        "id": "fR_afGv-Djbg"
      },
      "source": [
        "**Counting the Repeating item without count() method**"
      ]
    },
    {
      "cell_type": "code",
      "execution_count": null,
      "metadata": {
        "colab": {
          "base_uri": "https://localhost:8080/"
        },
        "id": "yeuuyhQiDi_f",
        "outputId": "b5c7b57f-0d08-4973-dec0-d0bc6ab9e6b0"
      },
      "outputs": [
        {
          "name": "stdout",
          "output_type": "stream",
          "text": [
            "Counter({23: 3, 11: 2, 15: 2, 33: 1, 17: 1, 19: 1, 20: 1})\n",
            "Counter({'Apple': 2, 'Banana': 2, 'Orange': 1, 'Berry': 1})\n"
          ]
        }
      ],
      "source": [
        "from collections import Counter # importing the library called as collections and using the Counter method\n",
        "# nums = [1, 2, 2, 3, 1, 4]\n",
        "nums = [11, 23, 33, 23, 15, 17, 23, 11, 15, 19, 20]\n",
        "fruits = [\"Apple\", \"Banana\", \"Orange\", \"Banana\", \"Berry\", \"Apple\"]\n",
        "freq = Counter(nums) # passing the numbers to the Counter method\n",
        "freq_fruits = Counter(fruits) # passing the numbers to the Counter method\n",
        "print(freq) # Result is given as a dictionary\n",
        "print(freq_fruits)"
      ]
    },
    {
      "cell_type": "markdown",
      "metadata": {
        "id": "SZwXYOkXE4vF"
      },
      "source": [
        "**Removing the Duplicate Items from the list**"
      ]
    },
    {
      "cell_type": "code",
      "execution_count": null,
      "metadata": {
        "colab": {
          "base_uri": "https://localhost:8080/"
        },
        "id": "feaZkFQcE8l1",
        "outputId": "14c3e1e4-dc3a-4612-b5af-56725bc5c9b4"
      },
      "outputs": [
        {
          "name": "stdout",
          "output_type": "stream",
          "text": [
            "[False, 1, 2, 3]\n",
            "['Rao', 'Ajay', 'Kumar', 'Akshay']\n"
          ]
        }
      ],
      "source": [
        "nums = [1, 2, 2, 3, 1, True, False] # list\n",
        "names = [\"Akshay\", \"Akshay\", \"Rao\", \"Kumar\", \"Ajay\", \"Rao\"] # list\n",
        "unique = list(set(nums)) # list => set, set will remove the duplicate items\n",
        "unique_names = list(set(names)) # list => set\n",
        "print(unique)\n",
        "print(unique_names)"
      ]
    },
    {
      "cell_type": "markdown",
      "metadata": {
        "id": "bNW7yBW0GJfO"
      },
      "source": [
        "**Check whether the given list is Palindrome or Not**"
      ]
    },
    {
      "cell_type": "code",
      "execution_count": null,
      "metadata": {
        "colab": {
          "base_uri": "https://localhost:8080/"
        },
        "id": "paH0PssPGN1X",
        "outputId": "587babfd-6baf-4f0a-801d-4631f54ccff9"
      },
      "outputs": [
        {
          "name": "stdout",
          "output_type": "stream",
          "text": [
            "False\n"
          ]
        }
      ],
      "source": [
        "pal = [1, 2, 3, 5, 2, 1]\n",
        "print(pal == pal[::-1]) # Comparing the normal list with reversed list"
      ]
    },
    {
      "cell_type": "code",
      "execution_count": null,
      "metadata": {
        "colab": {
          "base_uri": "https://localhost:8080/"
        },
        "id": "rDwsHUlKHXyA",
        "outputId": "d3d5cbe6-1527-4c61-809e-97aa7f43d7dc"
      },
      "outputs": [
        {
          "name": "stdout",
          "output_type": "stream",
          "text": [
            "[2, 3, 7, 8, 11, 17, 23, 31, 37, 50]\n",
            "All Numbers: [2, 3, 7, 8, 11, 17, 23, 31, 37, 50]\n",
            "First Five Numbers: [2, 3, 7, 8, 11]\n",
            "Numbers skipping even places: [2, 7, 11, 23, 37]\n",
            "Numbers skipping 2 numbers: [2, 8, 23, 50]\n",
            "Numbers skipping 3 numbers: [2, 11, 37]\n",
            "Numbers skipping 3 numbers without start and end range: [2, 11, 37]\n",
            "Reversing the list using -1 step: [50, 37, 31, 23, 17, 11, 8, 7, 3, 2]\n",
            "Reversing the list and then skip 1 number: [50, 31, 17, 8, 3]\n",
            "Reversing the list and then skip 2 number: [50, 23, 8, 2]\n",
            "Last Five Numbers: [17, 23, 31, 37, 50]\n",
            "First Five Numbers using Negative Index: [2, 3, 7, 8, 11]\n",
            "Last Five Numbers using Negative Index: [17, 23, 31, 37, 50]\n"
          ]
        }
      ],
      "source": [
        "numbers = [2, 3, 7, 8, 11, 17, 23, 31, 37, 50]\n",
        "print(numbers)\n",
        "print(\"All Numbers:\",numbers[0:11])\n",
        "print(\"First Five Numbers:\",numbers[:5])\n",
        "# Slicing: [start:end:step]\n",
        "# start included, end excluded, step - for skipping\n",
        "# Slicing: [:end] => start until end - 1\n",
        "# Slicing: [start:] => start until end\n",
        "# Slicing: [start:end] => start until end - 1\n",
        "# Slicing: [0:5:2] => 0 2 4\n",
        "# Slicing: [::2] => start to end skip 1 number b/w\n",
        "# Slicing: [::-1] => reverse the list\n",
        "# Slicing: [::-2] => first reverse the list, then skip 1 number\n",
        "print(\"Numbers skipping even places:\",numbers[:11:2])\n",
        "print(\"Numbers skipping 2 numbers:\",numbers[:11:3])\n",
        "print(\"Numbers skipping 3 numbers:\",numbers[:11:4])\n",
        "print(\"Numbers skipping 3 numbers without start and end range:\",numbers[::4])\n",
        "print(\"Reversing the list using -1 step:\",numbers[::-1])\n",
        "print(\"Reversing the list and then skip 1 number:\",numbers[::-2])\n",
        "print(\"Reversing the list and then skip 2 number:\",numbers[::-3])\n",
        "print(\"Last Five Numbers:\",numbers[5:])\n",
        "print(\"First Five Numbers using Negative Index:\",numbers[:-5])\n",
        "print(\"Last Five Numbers using Negative Index:\",numbers[-5:])"
      ]
    },
    {
      "cell_type": "markdown",
      "metadata": {
        "id": "8Vgv2h5ZLQ3v"
      },
      "source": [
        "**Finding the second largest number in the given list**"
      ]
    },
    {
      "cell_type": "code",
      "execution_count": null,
      "metadata": {
        "colab": {
          "base_uri": "https://localhost:8080/"
        },
        "id": "kvaHrMdoJOuN",
        "outputId": "04b77524-bdef-478f-8ee8-336d68d33a20"
      },
      "outputs": [
        {
          "name": "stdout",
          "output_type": "stream",
          "text": [
            "Second largest: 13\n"
          ]
        }
      ],
      "source": [
        "# nums = [4, 1, 7, 3, 7]\n",
        "nums = [2, 5, 8, 13, 17, 5, 9, 17]\n",
        "first = second = 0 # assuming that 1st & 2nd largest number is equal to 0\n",
        "for num in nums:\n",
        "    if num > first:\n",
        "        second = first\n",
        "        first = num\n",
        "    elif num > second and num != first:\n",
        "        second = num\n",
        "print(\"Second largest:\", second)\n",
        "\n",
        "# first = 0, second = 0\n",
        "# Step 1: num = 4, 4 > f => 4 > 0 - T\n",
        "                    #  s = 0\n",
        "                    #  f = 4\n",
        "# Step 2: num = 1, 1 > f => 1 > 4 - F\n",
        "                    #  1 > s => 1 > 0 - T & 1 != f => 1 != 4 - T ==> T & T - T\n",
        "                    #  s = 1\n",
        "# Step 3: num = 7, 7 > f => 7 > 4 - T\n",
        "                    #  s = 4\n",
        "                    #  f = 7\n",
        "# Step 4: num = 3, 3 > f => 3 > 7 - F\n",
        "                    #  3 > s => 3 > 4 - F & 3 != f => 3 != 7 - T ==> F & T - F\n",
        "# Step 5: num = 7, 7 > f => 7 > 7 - F\n",
        "                    #  7 > s => 7 > 4 - T & 7 != f => 7 != 7 - F ==> T & F - F\n",
        "                    # Stop\n",
        "                    # Second = 4\n"
      ]
    },
    {
      "cell_type": "code",
      "execution_count": null,
      "metadata": {
        "id": "B8dstoKiPtis"
      },
      "outputs": [],
      "source": [
        "new_list = [2, 5, 8, 13, 17, 5, 9, 17]\n",
        "\n",
        "# f = 0, s = 0\n",
        "# Step 1: num = 2, 2 > f => 2 > 0 - T\n",
        "          # s = f => s = 0\n",
        "          # f = num => f = 2\n",
        "    # f = 2, s = 0\n",
        "# Step 2: num = 5, 5 > f => 5 > 2 - T\n",
        "          # s = f => s = 2\n",
        "          # f = num => f = 5\n",
        "    # f = 5, s = 2\n",
        "# Step 3: num = 8, 8 > f => 8 > 5 - T\n",
        "          # s = f => s = 5\n",
        "          # f = num => f = 8\n",
        "    # f = 8, s = 5\n",
        "# Step 4: num = 13, 13 > f => 13 > 8 - T\n",
        "          # s = f => s = 8\n",
        "          # f = num => f = 13\n",
        "    # f = 13, s = 8\n",
        "# Step 5: num = 17, 17 > f => 17 > 13 - T\n",
        "          # s = f => s = 13\n",
        "          # f = num => f = 17\n",
        "    # f = 17, s = 13\n",
        "# Step 6: num = 5, 5 > f => 5 > 17 - F\n",
        "          # num > s & num != f\n",
        "          # 5 > 13 & 5 != 17 => F & T - F\n",
        "    # f = 17, s = 13\n",
        "# Step 7: num = 9, 9 > f => 9 > 17 - F\n",
        "          # num > s & num != f\n",
        "          # 9 > 13 & 9 != 17 => F & T - F\n",
        "    # f = 17, s = 13\n",
        "# Step 8: num = 17, 17 > f => 17 > 17 - F\n",
        "          # num > s & num != f\n",
        "          # 17 > 13 & 17 != 17 => T & F - F\n",
        "    # f = 17, s = 13\n",
        "    # Stop\n",
        "    # Second = 13"
      ]
    },
    {
      "cell_type": "markdown",
      "metadata": {
        "id": "ckohi6sfSAVI"
      },
      "source": [
        "**Print Even numbers from the list**"
      ]
    },
    {
      "cell_type": "code",
      "execution_count": null,
      "metadata": {
        "colab": {
          "base_uri": "https://localhost:8080/"
        },
        "id": "oXb1zJaDSEhO",
        "outputId": "753f4dc3-ff3a-4122-ef69-0bb60ccba681"
      },
      "outputs": [
        {
          "name": "stdout",
          "output_type": "stream",
          "text": [
            "[2, 4, 6]\n"
          ]
        }
      ],
      "source": [
        "nums = [1, 2, 3, 4, 5, 6]\n",
        "evens = [x for x in nums if x % 2 == 0]\n",
        "print(evens)"
      ]
    },
    {
      "cell_type": "code",
      "execution_count": null,
      "metadata": {
        "colab": {
          "base_uri": "https://localhost:8080/"
        },
        "id": "CcpFM5_pSJ__",
        "outputId": "48124a6b-9239-487d-d422-9bc9df74765d"
      },
      "outputs": [
        {
          "name": "stdout",
          "output_type": "stream",
          "text": [
            "[12, 24, 16, 14, 48]\n"
          ]
        }
      ],
      "source": [
        "nums = [12, 24, 33, 16, 27, 45, 14, 48]\n",
        "even = []\n",
        "for num in nums:\n",
        "  if num % 2 == 0:\n",
        "    even.append(num)\n",
        "print(even)\n",
        "\n",
        "# even = []\n",
        "# Step 1: 12 => 12 % 2 == 0 - T\n",
        "  # even = [12]\n",
        "# Step 2: 24 => 24 % 2 == 0 - T\n",
        "  # even = [12, 24]\n",
        "# Step 3: 33 => 33 % 2 == 0 - F\n",
        "  # even = [12, 24]\n",
        "# Step 4: 16 => 16 % 2 == 0 - T\n",
        "  # even = [12, 24, 16]\n",
        "# Step 5: 27 => 27 % 2 == 0 - F\n",
        "  # even = [12, 24, 16]\n",
        "# Step 6: 45 => 45 % 2 == 0 - F\n",
        "  # even = [12, 24, 16]\n",
        "# Step 7: 14 => 14 % 2 == 0 - T\n",
        "  # even = [12, 24, 16, 14]\n",
        "# Step 8: 14 => 48 % 2 == 0 - T\n",
        "  # even = [12, 24, 16, 14, 48]"
      ]
    },
    {
      "cell_type": "markdown",
      "metadata": {
        "id": "SLt13GJ7T8Ea"
      },
      "source": [
        "**Sum & Average of List**"
      ]
    },
    {
      "cell_type": "code",
      "execution_count": null,
      "metadata": {
        "colab": {
          "base_uri": "https://localhost:8080/"
        },
        "id": "lALNVqY9UI_a",
        "outputId": "0148224d-b903-456a-c1b3-40c16dfc9db5"
      },
      "outputs": [
        {
          "name": "stdout",
          "output_type": "stream",
          "text": [
            "Sum: 180\n",
            "Average: 36.0\n"
          ]
        }
      ],
      "source": [
        "# Without using sum() method\n",
        "num = [12, 24, 36, 48, 60]\n",
        "total = 0\n",
        "for item in num:\n",
        "  total = total + item\n",
        "print(\"Sum:\", total)\n",
        "\n",
        "average = total / len(num)\n",
        "print(\"Average:\", average)\n",
        "\n",
        "# Using sum() method\n",
        "# nums = [10, 20, 30]\n",
        "# total = sum(nums)\n",
        "# avg = total / len(nums)\n",
        "# print(\"Sum:\", total, \"Average:\", avg)"
      ]
    },
    {
      "cell_type": "markdown",
      "metadata": {
        "id": "9kxR1BZ9WPPG"
      },
      "source": [
        "**Finding common items from 2 list**"
      ]
    },
    {
      "cell_type": "code",
      "execution_count": null,
      "metadata": {
        "colab": {
          "base_uri": "https://localhost:8080/"
        },
        "id": "HfTwqt03WUKF",
        "outputId": "8beb99bd-e800-4725-d936-1450655b8a90"
      },
      "outputs": [
        {
          "name": "stdout",
          "output_type": "stream",
          "text": [
            "[2, 3]\n"
          ]
        }
      ],
      "source": [
        "a = [1, 2, 3] # list\n",
        "b = [2, 3, 4] # list\n",
        "common = list(set(a) & set(b)) # list a & b => set, then find intersection\n",
        "print(common)"
      ]
    },
    {
      "cell_type": "markdown",
      "metadata": {
        "id": "a6JklXPYWsNV"
      },
      "source": [
        "**Rotating the list from the given item**"
      ]
    },
    {
      "cell_type": "code",
      "execution_count": null,
      "metadata": {
        "colab": {
          "base_uri": "https://localhost:8080/"
        },
        "id": "S6zwlJ_8WwWA",
        "outputId": "f8dbafd6-1da7-4260-913b-54896d424160"
      },
      "outputs": [
        {
          "data": {
            "text/plain": [
              "[51, 55, 13, 17, 23, 29, 32, 36, 43, 47]"
            ]
          },
          "execution_count": 6,
          "metadata": {},
          "output_type": "execute_result"
        }
      ],
      "source": [
        "def rotate(lst, k):\n",
        "    k %= len(lst)\n",
        "    return lst[-k:] + lst[:-k]\n",
        "\n",
        "rotate([13, 17, 23, 29, 32, 36, 43, 47, 51, 55], 32) # for this it is not working\n",
        "# [1, 2, 3, 4, 5], 4 => [4, 5, 1, 2, 3]\n",
        "\n",
        "# [20, 25, 28, 33, 37, 23], 28\n",
        "# k = 28, list = [20, 25, 28, 33, 37, 23]\n",
        "# Step 1: k = k % len(list)\n",
        "        # k = 28 % 6 => 4 (20/4 - Finding Quotient, 20%4 - Finding Remainder)\n",
        "        # k = 4\n",
        "  # list[-k:] + list[:-k]\n",
        "  # list[-4:] + list[:-4]\n",
        "  # [20, 25, 28, 33, 37, 23]\n",
        "  #  0    1   2   3   4   5\n",
        "  # -6   -5  -4  -3  -2  -1\n",
        "# [-4:] => [28, 33, 37, 23]\n",
        "# [:-4] => [20, 25]\n",
        "# [28, 33, 37, 23] + [20, 25] = > [28, 33, 37, 23, 20, 25]\n",
        "\n",
        "# Example 2:\n",
        "# list = [13, 17, 23, 29, 32, 36, 43, 47, 51, 55], k = 47\n",
        "\n",
        "# [13, 17, 23, 29, 32, 36, 43, 47, 51, 55]\n",
        "#  0   1    2   3   4   5   6   7   8   9\n",
        "# -10  -9  -8  -7  -6   -5  -4  -3  -2  -1\n",
        "# k = k % len(list)\n",
        "# k = 47 % 10 = 7 \n",
        "# lst[-k:] + lst[:-k]\n",
        "# list[-7:] + list[:-7]\n",
        "# [29, 32, 36, 43, 47, 51, 55] + [13, 17, 23] => [29, 32, 36, 43, 47, 51, 55, 13, 17, 23]"
      ]
    },
    {
      "cell_type": "code",
      "execution_count": 13,
      "metadata": {
        "id": "UnZYU10yXoGc"
      },
      "outputs": [
        {
          "name": "stdout",
          "output_type": "stream",
          "text": [
            "[(1, 4), (3, 2), (0, 5)]\n"
          ]
        }
      ],
      "source": [
        "# nums = [1, 2, 3, 4, 5]\n",
        "# target = 6\n",
        "nums = [1, 3, 4, 0, 2, 5]\n",
        "target = 5\n",
        "pairs = []\n",
        "for i in range(len(nums)):\n",
        "    for j in range(i+1, len(nums)):\n",
        "        if nums[i] + nums[j] == target:\n",
        "            pairs.append((nums[i], nums[j]))\n",
        "print(pairs)\n",
        "\n",
        "# num = [0, 1, 2, 6, 7, 4, 5, 3, 4, 8, 9], target = 8, pairs = [], len = 11\n",
        "# Step 1: i = 0, j = 1\n",
        "# num[i] + num[1+1] => num[0] + num[1] == target => 0 + 1 == 8 \n",
        "# 1 == 8 - F\n",
        "# Step 2: i = 0, j = 2\n",
        "# num[i] + num[1+1] => num[0] + num[2] == target => 0 + 2 == 8 \n",
        "# 2 == 8 - F\n",
        "# Step 3: i = 0, j = 3\n",
        "# num[i] + num[1+1] => num[0] + num[3] == target => 0 + 6 == 8 \n",
        "# 6 == 8 - F\n",
        "# Step 4: i = 0, j = 4\n",
        "# num[i] + num[1+1] => num[0] + num[4] == target => 0 + 7 == 8 \n",
        "# 7 == 8 - F\n",
        "# Step 5: i = 0, j = 5\n",
        "# num[i] + num[1+1] => num[0] + num[5] == target => 0 + 4 == 8 \n",
        "# 4 == 8 - F\n",
        "# Step 6: i = 0, j = 6\n",
        "# num[i] + num[1+1] => num[0] + num[6] == target => 0 + 5 == 8 \n",
        "# 5 == 8 - F\n",
        "# Step 7: i = 0, j = 7\n",
        "# num[i] + num[1+1] => num[0] + num[7] == target => 0 + 3 == 8 \n",
        "# 3 == 8 - F\n",
        "# Step 8: i = 0, j = 8\n",
        "# num[i] + num[1+1] => num[0] + num[8] == target => 0 + 4 == 8 \n",
        "# 4 == 8 - F\n",
        "# Step 9: i = 0, j = 9\n",
        "# num[i] + num[1+1] => num[0] + num[8] == target => 0 + 8 == 8 \n",
        "# 8 == 8 - T\n",
        "# pairs = [(0, 8)]\n",
        "\n",
        "# Example 2:\n",
        "# list = [1, 3, 4, 0, 2, 5], target = 5, len = 6, pairs = []\n",
        "# Step 1: i = 0, j = i + 1 = 1 \n",
        "#         num[i] + num[j] == target\n",
        "#         num[0] + num[1] == 5\n",
        "#         1 + 3 == 5 => 4 == 5 - F\n",
        "# Step 2: i = 0, j = 2 \n",
        "#         num[i] + num[j] == target\n",
        "#         num[0] + num[2] == 5\n",
        "#         1 + 4 == 5 => 5 == 5 - T\n",
        "#         pairs = [(1, 4)]\n",
        "# Step 3: i = 0, j = 3, pairs = [(1, 4)]\n",
        "#         num[i] + num[j] == target\n",
        "#         num[0] + num[3] == 5\n",
        "#         1 + 0 == 5 => 1 == 5 - F\n",
        "# Step 4: i = 0, j = 4, pairs = [(1, 4)]\n",
        "#         num[i] + num[j] == target\n",
        "#         num[0] + num[4] == 5\n",
        "#         1 + 2 == 5 => 3 == 5 - F\n",
        "# Step 5: i = 0, j = 5, pairs = [(1, 4)]\n",
        "#         num[i] + num[j] == target\n",
        "#         num[0] + num[5] == 5\n",
        "#         1 + 5 == 5 => 6 == 5 - F\n",
        "# ------------------------------------------------\n",
        "# [1, 3, 4, 0, 2, 5]\n",
        "# Step 5: i = 1, j = i + 1 = 2, pairs = [(1, 4)]\n",
        "#         num[i] + num[j] == target\n",
        "#         num[1] + num[2] == 5\n",
        "#         3 + 4 == 5 => 7 == 5 - F\n",
        "# Step 5: i = 1, j = 3, pairs = [(1, 4)]\n",
        "#         num[i] + num[j] == target\n",
        "#         num[1] + num[3] == 5\n",
        "#         3 + 0 == 5 => 3 == 5 - F\n",
        "# Step 5: i = 1, j = 4, pairs = [(1, 4)]\n",
        "#         num[i] + num[j] == target\n",
        "#         num[1] + num[4] == 5\n",
        "#         3 + 2 == 5 => 5 == 5 - T\n",
        "#         pairs = [(1,4)] + [(3,2)] = > [(1,4), (3,2)]\n",
        "# Step 5: i = 1, j = 5, pairs = [(1,4), (3,2)]\n",
        "#         num[i] + num[j] == target\n",
        "#         num[1] + num[5] == 5\n",
        "#         3 + 5 == 5 => 8 == 5 - F\n",
        "# ------------------------------------------------\n",
        "# [1, 3, 4, 0, 2, 5]\n",
        "# Step 5: i = 2, j = i + 1 = 3, pairs = [(1,4), (3,2)]\n",
        "#         num[i] + num[j] == target\n",
        "#         num[2] + num[3] == 5\n",
        "#         4 + 0 == 5 => 4 == 5 - F\n",
        "# Step 5: i = 2, j = 4, pairs = [(1,4), (3,2)]\n",
        "#         num[i] + num[j] == target\n",
        "#         num[2] + num[4] == 5\n",
        "#         4 + 2 == 5 => 6 == 5 - F\n",
        "# Step 5: i = 2, j = 5, pairs = [(1,4), (3,2)]\n",
        "#         num[i] + num[j] == target\n",
        "#         num[2] + num[4] == 5\n",
        "#         4 + 5 == 5 => 9== 5 - F\n",
        "# ------------------------------------------------\n",
        "# [1, 3, 4, 0, 2, 5]\n",
        "# Step 5: i = 3, j = i + 1 = 4, pairs = [(1,4), (3,2)]\n",
        "#         num[i] + num[j] == target\n",
        "#         num[3] + num[4] == 5\n",
        "#         0 + 2 == 5 => 2 == 5 - F\n",
        "# Step 5: i = 3, j = 5, pairs = [(1,4), (3,2)]\n",
        "#         num[i] + num[j] == target\n",
        "#         num[3] + num[5] == 5\n",
        "#         0 + 5 == 5 => 5 == 5 - T\n",
        "#         pairs = [(1,4), (3,2)] + [(0, 5)] => pairs = [(1,4), (3,2), (0, 5)]\n",
        "# ------------------------------------------------\n",
        "# [1, 3, 4, 0, 2, 5]\n",
        "# Step 5: i = 4, j = i + 1 = 5, pairs = [(1,4), (3,2), (0, 5)]\n",
        "#         num[i] + num[j] == target\n",
        "#         num[4] + num[5] == 5\n",
        "#         2 + 5== 5 => 7 == 5 - F\n",
        "# STOP\n",
        "# pairs = [(1,4), (3,2), (0, 5)]"
      ]
    },
    {
      "cell_type": "code",
      "execution_count": null,
      "metadata": {},
      "outputs": [
        {
          "name": "stdout",
          "output_type": "stream",
          "text": [
            "item: 0\n",
            "item: 1\n",
            "item: 2\n",
            "item: 6\n",
            "item: 7\n",
            "item: 4\n",
            "item: 5\n",
            "item: 3\n",
            "item: 4\n",
            "item: 8\n",
            "item: 9\n",
            "index: 0\n",
            "index: 1\n",
            "index: 2\n",
            "index: 3\n",
            "index: 4\n",
            "index: 5\n",
            "index: 6\n",
            "index: 7\n",
            "index: 8\n",
            "index: 9\n",
            "index: 10\n",
            "0 1\n",
            "0 2\n",
            "0 3\n",
            "0 4\n",
            "1 2\n",
            "1 3\n",
            "1 4\n",
            "2 3\n",
            "2 4\n",
            "3 4\n"
          ]
        }
      ],
      "source": [
        "# num = [0, 1, 2, 6, 7, 4, 5, 3, 4, 8, 9]\n",
        "# for i in num:\n",
        "#     print(\"item:\",i)\n",
        "    \n",
        "# for i in range(len(num)):\n",
        "#     print(\"index:\",i)\n",
        "    \n",
        "# for i in range(len(nums)):\n",
        "#     for j in range(i+1, len(nums)):\n",
        "#         print(i, j)"
      ]
    },
    {
      "cell_type": "markdown",
      "metadata": {},
      "source": [
        "Seperating the Positive & Negative Numbers"
      ]
    },
    {
      "cell_type": "code",
      "execution_count": 14,
      "metadata": {},
      "outputs": [
        {
          "name": "stdout",
          "output_type": "stream",
          "text": [
            "Positive: [1, 3, 5]\n",
            "Negative: [-2, -4]\n"
          ]
        }
      ],
      "source": [
        "nums = [1, -2, 3, -4, 5]\n",
        "pos = [x for x in nums if x >= 0]\n",
        "neg = [x for x in nums if x < 0]\n",
        "print(\"Positive:\", pos)\n",
        "print(\"Negative:\", neg)\n",
        "\n",
        "# Breakdown of the above program\n",
        "# pos = []\n",
        "# for x in nums:\n",
        "#     if x >= 0:\n",
        "#         pos.append(nums[x])\n",
        "        \n",
        "# neg = []\n",
        "# for x in nums:\n",
        "#     if x <= 0:\n",
        "#         neg.append(nums[x])"
      ]
    },
    {
      "cell_type": "code",
      "execution_count": 17,
      "metadata": {},
      "outputs": [
        {
          "name": "stdout",
          "output_type": "stream",
          "text": [
            "[2, 4, 6, 8, 13, 17, 23]\n",
            "Second largest number is: 17\n"
          ]
        }
      ],
      "source": [
        "nums = list(map(int, input(\"Enter numbers separated by space: \").split()))\n",
        "unique_nums = list(set(nums))\n",
        "unique_nums.sort()\n",
        "print(unique_nums)\n",
        "print(\"Second largest number is:\", unique_nums[-2])"
      ]
    },
    {
      "cell_type": "markdown",
      "metadata": {},
      "source": [
        "Matrix Addition"
      ]
    },
    {
      "cell_type": "code",
      "execution_count": null,
      "metadata": {},
      "outputs": [
        {
          "ename": "ValueError",
          "evalue": "invalid literal for int() with base 10: ''",
          "output_type": "error",
          "traceback": [
            "\u001b[31m---------------------------------------------------------------------------\u001b[39m",
            "\u001b[31mValueError\u001b[39m                                Traceback (most recent call last)",
            "\u001b[36mCell\u001b[39m\u001b[36m \u001b[39m\u001b[32mIn[25]\u001b[39m\u001b[32m, line 1\u001b[39m\n\u001b[32m----> \u001b[39m\u001b[32m1\u001b[39m rows = \u001b[38;5;28;43mint\u001b[39;49m\u001b[43m(\u001b[49m\u001b[38;5;28;43minput\u001b[39;49m\u001b[43m(\u001b[49m\u001b[33;43m\"\u001b[39;49m\u001b[33;43mEnter rows: \u001b[39;49m\u001b[33;43m\"\u001b[39;49m\u001b[43m)\u001b[49m\u001b[43m)\u001b[49m\n\u001b[32m      2\u001b[39m cols = \u001b[38;5;28mint\u001b[39m(\u001b[38;5;28minput\u001b[39m(\u001b[33m\"\u001b[39m\u001b[33mEnter columns: \u001b[39m\u001b[33m\"\u001b[39m))\n\u001b[32m      4\u001b[39m \u001b[38;5;28mprint\u001b[39m(\u001b[33m\"\u001b[39m\u001b[33mEnter Matrix A:\u001b[39m\u001b[33m\"\u001b[39m)\n",
            "\u001b[31mValueError\u001b[39m: invalid literal for int() with base 10: ''"
          ]
        }
      ],
      "source": [
        "rows = int(input(\"Enter rows: \")) # input taken as string then coverted that to int\n",
        "cols = int(input(\"Enter columns: \"))\n",
        "\n",
        "print(\"Enter Matrix A:\")\n",
        "A = [list(map(int, input().split())) for _ in range(rows)]\n",
        "\n",
        "print(\"Enter Matrix B:\")\n",
        "B = [list(map(int, input().split())) for _ in range(rows)]\n",
        "\n",
        "result = [[A[i][j] + B[i][j] for j in range(cols)] for i in range(rows)]\n",
        "\n",
        "print(\"Resultant Matrix:\")\n",
        "for row in result:\n",
        "    print(row)\n",
        "    \n",
        "# rows = 2, cols = 2\n",
        "# A = [2 4   B = [3 6  => [00 01\n",
        "#      6 8]       9 12]    10 11]\n",
        "# result = []\n",
        "# for i in range(rows):\n",
        "#     for j in range(cols):\n",
        "#         A[i][j] + B[i][j]\n",
        "# Step 1: i = 0, j = 0\n",
        "        #   A[0][0] + B[0][0]\n",
        "            # 2 + 3 = 5\n",
        "# Result = [5]\n",
        "# Step 2: i = 0, j = 1\n",
        "        #   A[0][1] + B[0][1]\n",
        "            # 4 + 6 = 10  \n",
        "# Result = [5 10]\n",
        "# Step 3: i = 1, j = 0\n",
        "        #   A[1][0] + B[1][0]\n",
        "            # 6 + 9 = 15  \n",
        "# Result = [5 10\n",
        "#           15 ]\n",
        "# Step 4: i = 1, j = 1\n",
        "        #   A[1][1] + B[1][1]\n",
        "            # 8 + 12 = 20  \n",
        "# Result = [5 10\n",
        "#           15 20]\n",
        "# Stop\n",
        "# Result = [5 10\n",
        "# #         15 20]"
      ]
    },
    {
      "cell_type": "markdown",
      "metadata": {},
      "source": [
        "A = [list(map(int, input().split())) for _ in range(rows)]\n",
        "\n",
        "Explanation:\n",
        "\n",
        "input().split():\n",
        "\n",
        "input() takes a line of input from the user as a string.\n",
        "\n",
        ".split() splits this string into a list of substrings based on whitespace (spaces, tabs, etc.).\n",
        "\n",
        "For example, if the user enters \"1 2 3\", input().split() will return ['1', '2', '3'].\n",
        "map(int, input().split()):\n",
        "\n",
        "The map() function applies the int function to each element of the list returned by input().split().\n",
        "\n",
        "This converts each string in the list to an integer.\n",
        "\n",
        "For example, map(int, ['1', '2', '3']) will produce an iterator that yields [1, 2, 3].\n",
        "\n",
        "list(map(int, input().split())):\n",
        "\n",
        "The list() function converts the iterator produced by map() into a list.\n",
        "\n",
        "So, list(map(int, input().split())) will result in [1, 2, 3] if the user enters \"1 2 3\".\n",
        "for _ in range(rows):\n",
        "\n",
        "This is a list comprehension that repeats the process rows times.\n",
        "_ is a placeholder variable (used when the variable itself is not needed).\n",
        "\n",
        "range(rows) generates a sequence of numbers from 0 to rows - 1, effectively looping rows times.\n",
        "\n",
        "[list(map(int, input().split())) for _ in range(rows)]:\n",
        "\n",
        "This creates a list of lists by repeating the process of taking input, splitting it, converting it to integers, and storing it as a list, for rows iterations.\n",
        "\n",
        "Each iteration corresponds to one row of input.\n",
        "\n",
        "Example:\n",
        "If rows = 3 and the user enters the following inputs:\n",
        "1 2 3\n",
        "4 5 6\n",
        "7 8 9\n",
        "\n",
        "The result will be:\n",
        "A = [\n",
        "    [1, 2, 3],  # First row of input\n",
        "    [4, 5, 6],  # Second row of input\n",
        "    [7, 8, 9]   # Third row of input\n",
        "]"
      ]
    },
    {
      "cell_type": "code",
      "execution_count": null,
      "metadata": {},
      "outputs": [
        {
          "name": "stdout",
          "output_type": "stream",
          "text": [
            "<class 'str'> <class 'int'> <class 'str'> <class 'int'>\n"
          ]
        }
      ],
      "source": [
        "rows_str = input(\"Enter rows: \")\n",
        "rows = int(input(\"Enter rows: \"))\n",
        "cols_str = input(\"Enter columns: \")\n",
        "cols = int(input(\"Enter columns: \"))\n",
        "print(type(rows_str),type(rows), type(cols_str), type(cols))\n",
        "\n",
        "print(\"Enter Matrix A:\")\n",
        "# input().split() => To remove the gap while giving input (whitespace)\n",
        "# int is used to covert the string input to integer\n",
        "# for loop to take the input for the given number of rows\n",
        "# map function is used to convert the string to int and pass it to the split() method so that all the whitespacea are removed and return thr 'int map'\n",
        "# again convert the map into list\n",
        "A = [list(map(int, input().split())) for _ in range(rows)] # start is unknown - (_)"
      ]
    },
    {
      "cell_type": "code",
      "execution_count": null,
      "metadata": {},
      "outputs": [],
      "source": [
        "# Simplified Matrix Addition Program\n",
        "# Step 1: Take input for the number of rows and columns\n",
        "rows = int(input(\"Enter rows: \"))\n",
        "cols = int(input(\"Enter columns: \"))\n",
        "\n",
        "# Step 2: Input matrix A\n",
        "print(\"Enter Matrix A:\")\n",
        "A = []\n",
        "for i in range(rows):\n",
        "    row = list(map(int, input().split()))\n",
        "    A.append(row)\n",
        "\n",
        "# Step 3: Input matrix B\n",
        "print(\"Enter Matrix B:\")\n",
        "B = []\n",
        "for i in range(rows):\n",
        "    row = list(map(int, input().split()))\n",
        "    B.append(row)\n",
        "\n",
        "# Step 4: Add the two matrices element-wise\n",
        "result = []\n",
        "for i in range(rows):\n",
        "    new_row = []\n",
        "    for j in range(cols):\n",
        "        new_row.append(A[i][j] + B[i][j])\n",
        "    result.append(new_row)\n",
        "\n",
        "# Step 5: Print the result\n",
        "print(\"Resultant Matrix:\")\n",
        "for row in result:\n",
        "    print(row)"
      ]
    },
    {
      "cell_type": "markdown",
      "metadata": {},
      "source": [
        "Transpose of the Matrix (Row become Column, Column become Row)"
      ]
    },
    {
      "cell_type": "code",
      "execution_count": null,
      "metadata": {},
      "outputs": [],
      "source": [
        "matrix = [list(map(int, input().split())) for _ in range(2)]\n",
        "transpose = [[row[i] for row in matrix] for i in range(len(matrix[0]))]\n",
        "print(\"Transpose:\")\n",
        "for row in transpose:\n",
        "    print(row)\n",
        "    \n",
        "# [20 30   =>  [20 40\n",
        "#  40 50]       30 50]\n",
        "\n",
        "# Simplified Version\n",
        "# Step 1: Input matrix with 2 rows\n",
        "print(\"Enter elements for 2 rows (space-separated):\")\n",
        "\n",
        "matrix = []\n",
        "for i in range(2):\n",
        "    row = input(f\"Row {i+1}: \").split()\n",
        "    row = [int(num) for num in row]\n",
        "    matrix.append(row)\n",
        "\n",
        "# Step 2: Transpose the matrix\n",
        "# Transpose means: convert rows to columns\n",
        "cols = len(matrix[0])\n",
        "transpose = []\n",
        "\n",
        "for i in range(cols):\n",
        "    new_row = []\n",
        "    for row in matrix:\n",
        "        new_row.append(row[i])\n",
        "    transpose.append(new_row)\n",
        "\n",
        "# Step 3: Print the transposed matrix\n",
        "print(\"\\nTranspose of the matrix:\")\n",
        "for row in transpose:\n",
        "    print(row)\n",
        "\n"
      ]
    }
  ],
  "metadata": {
    "colab": {
      "provenance": []
    },
    "kernelspec": {
      "display_name": "Python 3",
      "name": "python3"
    },
    "language_info": {
      "codemirror_mode": {
        "name": "ipython",
        "version": 3
      },
      "file_extension": ".py",
      "mimetype": "text/x-python",
      "name": "python",
      "nbconvert_exporter": "python",
      "pygments_lexer": "ipython3",
      "version": "3.12.4"
    }
  },
  "nbformat": 4,
  "nbformat_minor": 0
}
