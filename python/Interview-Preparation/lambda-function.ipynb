{
 "cells": [
  {
   "cell_type": "markdown",
   "id": "0aea1177",
   "metadata": {},
   "source": [
    "Lambda Functions are used to define the function in single line with or without function names"
   ]
  },
  {
   "cell_type": "code",
   "execution_count": 10,
   "id": "abbb637c",
   "metadata": {},
   "outputs": [
    {
     "name": "stdout",
     "output_type": "stream",
     "text": [
      "Sum of 2 numbers: 11\n",
      "7\n",
      "Product of 2 numbers: 40\n",
      "Is 6 divisble by 3:  Divisible by 3\n",
      "Is 7 divisble by 3:  Not Divisible\n",
      "Square of 5: 25\n",
      "Cube of 5: 125\n"
     ]
    }
   ],
   "source": [
    "# Syntax for creating the function:\n",
    "# def function_name(parameters):  => Function Declaration\n",
    "    # function definition         => Function Definition\n",
    "    \n",
    "# function_name(arguments)        => Function Call\n",
    "def add(x, y): \n",
    "    return x + y\n",
    "\n",
    "sum = add(5, 6)\n",
    "print(\"Sum of 2 numbers:\",sum)\n",
    "\n",
    "# Using Lambda Function\n",
    "add = lambda x, y: x + y  # Writing the function definition in single line by avoiding the def & return keyword\n",
    "\n",
    "print(add(3, 4))\n",
    "\n",
    "# Product using Lambda Function\n",
    "product = lambda a, b: a * b  # Function Name: product, Parameters: a & b, Returning: a * b\n",
    "\n",
    "print(\"Product of 2 numbers:\",product(5,8))\n",
    "\n",
    "# Check whether the given number is completely divisible by 3\n",
    "multipleOf3 = lambda num: \"Divisible by 3\" if num % 3 == 0 else \"Not Divisible\"\n",
    "                          # (True Statement) if (condition) else (False Statement)\n",
    "\n",
    "print(\"Is 6 divisble by 3: \", multipleOf3(6))\n",
    "print(\"Is 7 divisble by 3: \", multipleOf3(7))\n",
    "\n",
    "# Square & cube of the number using lambda function\n",
    "square = lambda num: num * num\n",
    "cube = lambda num: num ** 3\n",
    "\n",
    "print(\"Square of 5:\", square(5))\n",
    "print(\"Cube of 5:\", cube(5))"
   ]
  }
 ],
 "metadata": {
  "kernelspec": {
   "display_name": "Python 3",
   "language": "python",
   "name": "python3"
  },
  "language_info": {
   "codemirror_mode": {
    "name": "ipython",
    "version": 3
   },
   "file_extension": ".py",
   "mimetype": "text/x-python",
   "name": "python",
   "nbconvert_exporter": "python",
   "pygments_lexer": "ipython3",
   "version": "3.12.4"
  }
 },
 "nbformat": 4,
 "nbformat_minor": 5
}
