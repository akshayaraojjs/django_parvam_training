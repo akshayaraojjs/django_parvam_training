{
 "cells": [
  {
   "cell_type": "markdown",
   "id": "72d2826e",
   "metadata": {},
   "source": [
    "## Map - Iterate through all the elements and create a new list\n",
    "## Filter - Based on the condition filter the items and gives the filtered list\n",
    "## Reduce - Accumulation of all data into single data\n",
    "\n",
    "## map(), filter() and reduce() method should be used for lists"
   ]
  },
  {
   "cell_type": "code",
   "execution_count": 39,
   "id": "3728e21d",
   "metadata": {},
   "outputs": [
    {
     "name": "stdout",
     "output_type": "stream",
     "text": [
      "[1, 4, 9, 16, 25]\n"
     ]
    }
   ],
   "source": [
    "# Map function for Finding the square of each numbers\n",
    "numbers = [1, 2, 3, 4, 5]\n",
    "# map(what-to-do, where)\n",
    "# map(logic, list)\n",
    "# lambda function without a name (Anonymous Function)\n",
    "squares = list(map(lambda x: x ** 2, numbers))\n",
    "print(squares)"
   ]
  },
  {
   "cell_type": "code",
   "execution_count": 40,
   "id": "12b5793d",
   "metadata": {},
   "outputs": [
    {
     "name": "stdout",
     "output_type": "stream",
     "text": [
      "['ALICE', 'BOB', 'CHARLIE', '123']\n",
      "['alice', 'bob', 'charlie', '123']\n"
     ]
    }
   ],
   "source": [
    "# Converting the Lowercase strings to Uppercase using Map function\n",
    "names = [\"alice\", \"bob\", \"charlie\", 123]\n",
    "upper_names = list(map(lambda name: (str(name)).upper(), names))\n",
    "print(upper_names)\n",
    "\n",
    "# map method is used to traverse through all the items and perform some operation\n",
    "#             list(map(lambda parameters: logic or operation to perform, input_list))\n",
    "lower_names = list(map(lambda name: name.lower(), upper_names))\n",
    "print(lower_names)"
   ]
  },
  {
   "cell_type": "code",
   "execution_count": 41,
   "id": "f1d8887c",
   "metadata": {},
   "outputs": [
    {
     "name": "stdout",
     "output_type": "stream",
     "text": [
      "Sum of list a & b items: [5, 7, 9]\n",
      "Difference of list a & b items: [-3, -3, -3]\n",
      "Product of list a & b items: [4, 10, 18]\n",
      "Power of list a & b items: [1, 32, 729]\n"
     ]
    }
   ],
   "source": [
    "# Addition of 2 list\n",
    "a = [1, 2, 3]\n",
    "b = [4, 5, 6]\n",
    "#          list(map(lambda item_from_a, item_from_b: item_a + item_b, list_a, list_b)) # list a & list b are the inputs for map function\n",
    "sum_list = list(map(lambda item1, item2: item1 + item2, a, b))\n",
    "diff_list = list(map(lambda item1, item2: item1 - item2, a, b))\n",
    "prod_list = list(map(lambda item1, item2: item1 * item2, a, b))\n",
    "pow_list = list(map(lambda item1, item2: item1 ** item2, a, b))\n",
    "\n",
    "print(\"Sum of list a & b items:\",sum_list)  \n",
    "print(\"Difference of list a & b items:\",diff_list)  \n",
    "print(\"Product of list a & b items:\",prod_list)  \n",
    "print(\"Power of list a & b items:\",pow_list)  "
   ]
  },
  {
   "cell_type": "code",
   "execution_count": 42,
   "id": "519a5d3e",
   "metadata": {},
   "outputs": [
    {
     "name": "stdout",
     "output_type": "stream",
     "text": [
      "[2, 4, 8]\n",
      "[1, 5, 7, 15]\n"
     ]
    }
   ],
   "source": [
    "# Filtering the Even Numbers from the list\n",
    "numbers = [1, 5, 7, 2, 4, 8, 15]\n",
    "even_list = list(filter(lambda num: num % 2 == 0, numbers))\n",
    "\n",
    "odd_list = list(filter(lambda num: num % 2 != 0, numbers))\n",
    "\n",
    "print(even_list)\n",
    "print(odd_list)"
   ]
  },
  {
   "cell_type": "code",
   "execution_count": 43,
   "id": "fe13398c",
   "metadata": {},
   "outputs": [
    {
     "name": "stdout",
     "output_type": "stream",
     "text": [
      "Names with 5 characters: ['Akash', 'Vijay']\n"
     ]
    }
   ],
   "source": [
    "names = [\"Akshay\", \"Ajay\", \"Akash\", \"Vijay\", \"Sanjay\"]\n",
    "\n",
    "filter_names = list(filter(lambda name: len(name) == 5, names))\n",
    "\n",
    "print(\"Names with 5 characters:\", filter_names)"
   ]
  },
  {
   "cell_type": "code",
   "execution_count": 44,
   "id": "284231a0",
   "metadata": {},
   "outputs": [
    {
     "name": "stdout",
     "output_type": "stream",
     "text": [
      "[3, 7, 4]\n",
      "[-5, -2, -1]\n"
     ]
    }
   ],
   "source": [
    "# Filtering the Negative & Positive Numbers\n",
    "nums = [-5, 3, -2, 7, -1, 4]\n",
    "\n",
    "positive = list(filter(lambda x: x >= 0, nums))\n",
    "\n",
    "negative = list(filter(lambda x: x < 0, nums))\n",
    "# As the result will be returned as Filtered List, we need to convert the result into list using typecasting list()\n",
    "\n",
    "print(positive)  \n",
    "print(negative)  "
   ]
  },
  {
   "cell_type": "code",
   "execution_count": 45,
   "id": "50008e04",
   "metadata": {},
   "outputs": [
    {
     "name": "stdout",
     "output_type": "stream",
     "text": [
      "24\n",
      "10\n"
     ]
    }
   ],
   "source": [
    "# Import the necessary library: \"from functools import reduce\"\n",
    "from functools import reduce\n",
    "\n",
    "nums = [1, 2, 3, 4]\n",
    "product = reduce(lambda x, y: x * y, nums)\n",
    "\n",
    "sum = reduce(lambda a, b: a + b, nums)\n",
    "# Why we are not using list() method here?\n",
    "# Because reduce method will return single result, so list is not necessary here\n",
    "print(product)\n",
    "print(sum)"
   ]
  },
  {
   "cell_type": "code",
   "execution_count": 46,
   "id": "ce945524",
   "metadata": {},
   "outputs": [
    {
     "name": "stdout",
     "output_type": "stream",
     "text": [
      "99\n"
     ]
    }
   ],
   "source": [
    "# Finding the Max item from the list using reduce method\n",
    "from functools import reduce\n",
    "nums = [10, 45, 2, 99, 32]\n",
    "                # comparing 2 items at a time and finding the max number\n",
    "maximum = reduce(lambda x, y: x if x > y else y, nums)\n",
    "print(maximum)"
   ]
  },
  {
   "cell_type": "code",
   "execution_count": 47,
   "id": "18242b92",
   "metadata": {},
   "outputs": [
    {
     "name": "stdout",
     "output_type": "stream",
     "text": [
      "Python  is awesome\n"
     ]
    }
   ],
   "source": [
    "# Concatenate the wors into single sentence using reduce method\n",
    "from functools import reduce\n",
    "words = [\"Python \", \"is\", \"awesome\"]\n",
    "sentence = reduce(lambda x, y: x + \" \" + y, words)\n",
    "print(sentence)"
   ]
  },
  {
   "cell_type": "code",
   "execution_count": 48,
   "id": "fca7e0c9",
   "metadata": {},
   "outputs": [
    {
     "name": "stdout",
     "output_type": "stream",
     "text": [
      "237\n",
      "39.5\n"
     ]
    }
   ],
   "source": [
    "numbers = [12, 23, 34, 45, 56, 67]\n",
    "sum = reduce(lambda x, y: x + y, numbers)\n",
    "average = sum/len(numbers)\n",
    "print(sum)\n",
    "print(average)"
   ]
  }
 ],
 "metadata": {
  "kernelspec": {
   "display_name": "Python 3",
   "language": "python",
   "name": "python3"
  },
  "language_info": {
   "codemirror_mode": {
    "name": "ipython",
    "version": 3
   },
   "file_extension": ".py",
   "mimetype": "text/x-python",
   "name": "python",
   "nbconvert_exporter": "python",
   "pygments_lexer": "ipython3",
   "version": "3.12.4"
  }
 },
 "nbformat": 4,
 "nbformat_minor": 5
}
