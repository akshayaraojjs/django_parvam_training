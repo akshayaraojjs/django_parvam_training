{
 "cells": [
  {
   "cell_type": "markdown",
   "id": "7c4ef4de",
   "metadata": {},
   "source": [
    "Remove Duplicates from a List Using Set"
   ]
  },
  {
   "cell_type": "code",
   "execution_count": null,
   "id": "78f2f62e",
   "metadata": {},
   "outputs": [
    {
     "name": "stdout",
     "output_type": "stream",
     "text": [
      "Original List: [1, 2, 2, 3, 4, 4, 5] Type of Data: <class 'list'>\n",
      "Without Duplicates: [1, 2, 3, 4, 5] Type of Data: <class 'list'>\n"
     ]
    }
   ],
   "source": [
    "nums = [1, 2, 2, 3, 4, 4, 5] # List\n",
    "unique_nums = list(set(nums)) # List -> Set to remove duplicate items and then again convert back to list\n",
    "\n",
    "# list(set[1,2,2,3,4,4,5]) => list([1,2,3,4,5]) => [1,2,3,4,5]\n",
    "\n",
    "print(\"Original List:\", nums, \"Type of Data:\", type(nums))\n",
    "print(\"Without Duplicates:\", unique_nums, \"Type of Data:\", type(unique_nums))"
   ]
  },
  {
   "cell_type": "markdown",
   "id": "db6c65e5",
   "metadata": {},
   "source": [
    "Finding the Union & Intersection of 2 Sets"
   ]
  },
  {
   "cell_type": "code",
   "execution_count": null,
   "id": "5d4fb9e7",
   "metadata": {},
   "outputs": [
    {
     "name": "stdout",
     "output_type": "stream",
     "text": [
      "Set A: {1, 2, 3, 4}\n",
      "Set B: {3, 4, 5, 6}\n",
      "Union: {1, 2, 3, 4, 5, 6}\n",
      "Intersection: {3, 4}\n"
     ]
    }
   ],
   "source": [
    "A = {1, 2, 3, 4}\n",
    "B = {3, 4, 5, 6}\n",
    "\n",
    "print(\"Set A:\", A)\n",
    "print(\"Set B:\", B)\n",
    "# For Union (|) is used, For Intersection (&) is used\n",
    "print(\"Union:\", A | B) # Combine the Both the Sets and also remove duplicate items\n",
    "print(\"Intersection:\", A & B) # Extract the Common Items in both the sets"
   ]
  },
  {
   "cell_type": "markdown",
   "id": "c4d5f9ac",
   "metadata": {},
   "source": [
    "Difference & Symmetric Difference"
   ]
  },
  {
   "cell_type": "code",
   "execution_count": null,
   "id": "e7a439f2",
   "metadata": {},
   "outputs": [
    {
     "name": "stdout",
     "output_type": "stream",
     "text": [
      "A - B: {10, 20}\n",
      "B - A: {50, 60}\n",
      "Symmetric Difference: {10, 50, 20, 60}\n"
     ]
    }
   ],
   "source": [
    "A = {10, 20, 30, 40}\n",
    "B = {30, 40, 50, 60}\n",
    "\n",
    "# Set Difference of A & B: \n",
    "# Different ways of Representing the Set Difference\n",
    "# A - B <=> A.difference(B)\n",
    "# B - A <=> B.difference(A)\n",
    "\n",
    "# A - B = A - (A & B)\n",
    "# A - B = {10, 20, 30, 40} - {30, 40} \n",
    "# A - B = {10, 20}\n",
    "\n",
    "# B - A = B - (A & B)\n",
    "# B - A = {30, 40, 50, 60} - {30, 40} \n",
    "# B - A = {50, 60}\n",
    "\n",
    "print(\"A - B:\", A - B)\n",
    "# # Remove the common items from A and give uncommon items from Set A (A - B)\n",
    "print(\"B - A:\", B - A)\n",
    "# # Remove the common items from B and give uncommon items from Set B (B - A)\n",
    "print(\"Symmetric Difference:\", A ^ B)\n",
    "\n",
    "# Symmetric Difference of A & B:\n",
    "# A ^ B = (A | B) - (A & B) => (Union - Intersection)\n",
    "# A ^ B = {10, 20, 30, 40, 50, 60} - {30, 40} \n",
    "# A ^ B = {10, 20, 50, 60}\n",
    "# Union & Remove the Common items from both the set - Synmmetric Difference (^)"
   ]
  },
  {
   "cell_type": "markdown",
   "id": "78ad31ca",
   "metadata": {},
   "source": [
    "Check for Subset & Superset"
   ]
  },
  {
   "cell_type": "code",
   "execution_count": null,
   "id": "bd9b889d",
   "metadata": {},
   "outputs": [
    {
     "name": "stdout",
     "output_type": "stream",
     "text": [
      "A is subset of B: True\n",
      "B is superset of A: True\n"
     ]
    }
   ],
   "source": [
    "A = {1, 2, 3} # Subset of B\n",
    "B = {1, 2, 3, 4, 5} # Superset\n",
    "\n",
    "# Superset is the set consists of all the items of the subset\n",
    "\n",
    "print(\"A is subset of B:\", A.issubset(B))\n",
    "print(\"B is superset of A:\", B.issuperset(A))"
   ]
  },
  {
   "cell_type": "markdown",
   "id": "7c9c8300",
   "metadata": {},
   "source": [
    "Find Common Items from 3 List"
   ]
  },
  {
   "cell_type": "code",
   "execution_count": 12,
   "id": "354aff3c",
   "metadata": {},
   "outputs": [
    {
     "name": "stdout",
     "output_type": "stream",
     "text": [
      "Common Elements: {2}\n"
     ]
    }
   ],
   "source": [
    "list1 = [1, 2, 6, 4] # list\n",
    "list2 = [2, 3, 5, 7] # list\n",
    "list3 = [0, 2, 3, 9] # list\n",
    "\n",
    "# Type Casting or Type Conversion - list(), set(), tuple(), dict()\n",
    "common = set(list1) & set(list2) & set(list3) # Converting all the 3 list into set to find its intersection\n",
    "# The common element should be present in all the 3 sets\n",
    "print(\"Common Elements:\", common)"
   ]
  },
  {
   "cell_type": "markdown",
   "id": "94115558",
   "metadata": {},
   "source": [
    "Count Unique Words in a Sentence"
   ]
  },
  {
   "cell_type": "code",
   "execution_count": null,
   "id": "2b9ad26a",
   "metadata": {},
   "outputs": [
    {
     "name": "stdout",
     "output_type": "stream",
     "text": [
      " hello world hello  world of sets \n",
      "['hello', 'world', 'hello', 'world', 'of', 'sets']\n",
      "Unique words: {'hello', 'of', 'world', 'sets'}\n",
      "Total unique word count: 4\n"
     ]
    }
   ],
   "source": [
    "sentence = \" hello world hello  world of sets \"\n",
    "print(sentence)\n",
    "words = sentence.split() # To remove white spaces b/w the words\n",
    "print(words)\n",
    "unique_words = set(words) # passing the list of words into set, set will remove the duplicate words\n",
    "\n",
    "print(\"Unique words:\", unique_words)\n",
    "print(\"Total unique word count:\", len(unique_words))"
   ]
  },
  {
   "cell_type": "markdown",
   "id": "a054ab8b",
   "metadata": {},
   "source": [
    "Check for Common Elements"
   ]
  },
  {
   "cell_type": "code",
   "execution_count": null,
   "id": "1fb01340",
   "metadata": {},
   "outputs": [
    {
     "name": "stdout",
     "output_type": "stream",
     "text": [
      "No common elements\n"
     ]
    }
   ],
   "source": [
    "A = {1, 6, 3}\n",
    "B = {4, 5, 2}\n",
    "\n",
    "# isdisjoint() method is going to check if any common elements present, if not found it will return true\n",
    "# isdisjoint() returns True or False\n",
    "if A.isdisjoint(B):\n",
    "    print(\"No common elements\")\n",
    "else:\n",
    "    print(\"Common elements found:\", A & B)"
   ]
  },
  {
   "cell_type": "markdown",
   "id": "455e45bc",
   "metadata": {},
   "source": [
    "Remove Vowels from the Sentence"
   ]
  },
  {
   "cell_type": "code",
   "execution_count": 23,
   "id": "79147f19",
   "metadata": {},
   "outputs": [
    {
     "name": "stdout",
     "output_type": "stream",
     "text": [
      "Without vowels: Sts r sfl n Pythn\n"
     ]
    }
   ],
   "source": [
    "vowels = {'a', 'e', 'i', 'o', 'u'} # Set of Vowels\n",
    "sentence = \"Sets Are Useful In Python\" # sentence\n",
    "# sentence = \"Orange\" # sentence\n",
    "result = \"\" # empty variable\n",
    "\n",
    "for char in sentence:\n",
    "    if char.lower() not in vowels:\n",
    "        result += char\n",
    "        \n",
    "# \"Orange\"\n",
    "# Step 1: O.lower() = o is not present in {a, e, i, o, u} - F\n",
    "# Step 2: r.lower() = r is not present in {a, e, i, o, u} - T\n",
    "# result = result + char => \"\" + \"r\" = \"r\"\n",
    "# Step 3: a.lower() = a is not present in {a, e, i, o, u} - F\n",
    "# Step 4: n.lower() = n is not present in {a, e, i, o, u} - T\n",
    "# result = result + char => \"r\" + \"n\" = \"rn\"\n",
    "# Step 5: g.lower() = g is not present in {a, e, i, o, u} - T\n",
    "# result = result + char => \"rn\" + \"g\" = \"rng\"\n",
    "# Step 6: e.lower() = e is not present in {a, e, i, o, u} - F\n",
    "# result = \"rng\"\n",
    "# STOP\n",
    "\n",
    "print(\"Without vowels:\", result)"
   ]
  },
  {
   "cell_type": "code",
   "execution_count": null,
   "id": "1b7cf4c1",
   "metadata": {},
   "outputs": [
    {
     "name": "stdout",
     "output_type": "stream",
     "text": [
      "W\n",
      "e\n",
      " \n",
      "a\n",
      "r\n",
      "e\n",
      " \n",
      "L\n",
      "e\n",
      "a\n",
      "r\n",
      "n\n",
      "i\n",
      "n\n",
      "g\n",
      " \n",
      "P\n",
      "y\n",
      "t\n",
      "h\n",
      "o\n",
      "n\n",
      " \n",
      "B\n",
      "a\n",
      "s\n",
      "i\n",
      "c\n",
      "s\n"
     ]
    }
   ],
   "source": [
    "# sen = \"We are Learning Python Basics\"\n",
    "\n",
    "# for letter in sen:\n",
    "#     print(letter)"
   ]
  },
  {
   "cell_type": "markdown",
   "id": "d6f1e6dd",
   "metadata": {},
   "source": [
    "Remove Duplicate items from List without using set() method"
   ]
  },
  {
   "cell_type": "code",
   "execution_count": 24,
   "id": "7aac91f6",
   "metadata": {},
   "outputs": [
    {
     "name": "stdout",
     "output_type": "stream",
     "text": [
      "Duplicate elements: {2, 4}\n",
      "Other elements: {1, 2, 3, 4, 5}\n"
     ]
    }
   ],
   "source": [
    "lst = [1, 2, 2, 3, 4, 4, 4, 5] # list\n",
    "seen = set() # Empty Set\n",
    "duplicates = set() # Empty Set\n",
    "\n",
    "for item in lst:\n",
    "    if item in seen:\n",
    "        duplicates.add(item)\n",
    "    else:\n",
    "        seen.add(item)\n",
    "\n",
    "print(\"Duplicate elements:\", duplicates)\n",
    "print(\"Other elements:\", seen)\n",
    "\n",
    "# [1, 2, 2, 3, 4, 4, 4, 5]\n",
    "# Step 1: 1 in seen\n",
    "# 1 in {} - F\n",
    "# seen.add(item) <=> seen = seen + item = {} + 1 = {1}\n",
    "# Step 2: 2 in seen\n",
    "# 2 in {1} - F\n",
    "# seen = seen + item = {1} + 2 = {1, 2}\n",
    "# Step 3: 2 in seen\n",
    "# 2 in {1, 2} - T\n",
    "# duplicates = duplicates + item = {} + 2 = {2}\n",
    "# Step 4: 3 in seen\n",
    "# 3 in {1, 2} - F\n",
    "# seen = seen + item = {1, 2} + 3 = {1, 2, 3}\n",
    "# Step 5: 4 in seen\n",
    "# 4 in {1, 2, 3} - F\n",
    "# seen = seen + item = {1, 2, 3} + 4 = {1, 2, 3, 4}\n",
    "# Step 6: 4 in seen\n",
    "# 4 in {1, 2, 3, 4} - T\n",
    "# duplicates = duplicates + item = {2} + 4 = {2, 4}\n",
    "# Step 7: 4 in seen\n",
    "# 4 in {1, 2, 3, 4} - T\n",
    "# duplicates = duplicates + item = {2, 4} + 4 = {2, 4} # Duplicate items ignored\n",
    "# Step 8: 5 in seen\n",
    "# 5 in {1, 2, 3, 4} - F\n",
    "# seen = seen + item = {1, 2, 3, 4} + 5 = {1, 2, 3, 4, 5}\n",
    "# STOP\n",
    "# duplicates = {2, 4}, seen = {1, 2, 3, 4, 5}"
   ]
  },
  {
   "cell_type": "markdown",
   "id": "5dfc9dc5",
   "metadata": {},
   "source": [
    "Set Comprehension"
   ]
  },
  {
   "cell_type": "code",
   "execution_count": null,
   "id": "1f6728d6",
   "metadata": {},
   "outputs": [
    {
     "name": "stdout",
     "output_type": "stream",
     "text": [
      "Squares: {1, 4, 9, 16, 25}\n"
     ]
    }
   ],
   "source": [
    "numbers = [1, 2, 3, 4, 5]\n",
    "squares = {x**2 for x in numbers}\n",
    "\n",
    "print(\"Squares:\", squares)"
   ]
  },
  {
   "cell_type": "code",
   "execution_count": 31,
   "id": "300a80d9",
   "metadata": {},
   "outputs": [
    {
     "name": "stdout",
     "output_type": "stream",
     "text": [
      "{16, 64, 4, 36}\n"
     ]
    }
   ],
   "source": [
    "# Simplified Version of the Square Program\n",
    "# numbers = [1, 2, 3, 4, 5]\n",
    "numbers = [2, 4, 6, 8]\n",
    "squares = set()\n",
    "for x in numbers:\n",
    "    squares.add(x**2) # x**2 => Power of 2: x^2\n",
    "    \n",
    "# [2, 4, 6, 8]\n",
    "# Step 1: 2 \n",
    "# squares = squares + x**2 = {} + 2^2 = > {} + 4 = {4} \n",
    "# Step 2: 4 \n",
    "# squares = squares + x**2 = {4} + 4^2 = > {4} + 16 = {4, 16} \n",
    "# Step 3: 6 \n",
    "# squares = squares + x**2 = {4, 16} + 6^2 = > {4, 16} + 36 = {4, 16, 36} \n",
    "# Step 4: 8 \n",
    "# squares = squares + x**2 = {4, 16, 36} + 8^2 = > {4, 16, 36} + 64 = {4, 16, 36, 64}\n",
    "# STOP\n",
    "# squares = {4, 16, 36, 64} \n",
    "    \n",
    "print(squares)"
   ]
  },
  {
   "cell_type": "markdown",
   "id": "a1c794e5",
   "metadata": {},
   "source": [
    "Duplicate Words & its count"
   ]
  },
  {
   "cell_type": "code",
   "execution_count": null,
   "id": "f0bbcac3",
   "metadata": {},
   "outputs": [
    {
     "name": "stdout",
     "output_type": "stream",
     "text": [
      "orange: 1 times\n",
      "apple: 3 times\n",
      "banana: 2 times\n"
     ]
    }
   ],
   "source": [
    "sentence = \"apple banana apple orange banana apple\"\n",
    "words = sentence.split()\n",
    "unique_words = set(words)\n",
    "\n",
    "for word in unique_words:\n",
    "    print(f\"{word}: {words.count(word)} times\")\n",
    "    \n",
    "# sen = \"apple banana apple orange banana apple\"\n",
    "# words = sen.split() => [\"apple\", \"banana\", \"apple\", \"orange\", \"banana\", \"apple\"]\n",
    "# unique_words = set([\"apple\", \"banana\", \"apple\", \"orange\", \"banana\", \"apple\"])\n",
    "# unique_words = {\"apple\", \"banana\", \"apple\", \"orange\", \"banana\", \"apple\"}\n",
    "\n",
    "# words.count(word) => count the current word in the sentence and return its count\n",
    "# Ex: (\"apple banana apple orange banana apple\").count(\"apple\") => 3\n",
    "# Ex: (\"apple banana apple orange banana apple\").count(\"banana\") => 2\n",
    "# Ex: (\"apple banana apple orange banana apple\").count(\"orange\") => 1\n",
    "\n",
    "# Step 1: \"apple\":  3 times\n",
    "# Step 2: \"banana\":  2 times\n",
    "# Step 3: \"orange\":  1 times"
   ]
  },
  {
   "cell_type": "code",
   "execution_count": 33,
   "id": "1312da38",
   "metadata": {},
   "outputs": [
    {
     "name": "stdout",
     "output_type": "stream",
     "text": [
      "Apple is repeated for  3  times\n"
     ]
    }
   ],
   "source": [
    "sen = \"Apple is good for health, Apple a Day keeps Doctor Away, Apple is very costly\"\n",
    "\n",
    "countApple = sen.count(\"Apple\")\n",
    "print(\"Apple is repeated for \", countApple, \" times\" )"
   ]
  }
 ],
 "metadata": {
  "kernelspec": {
   "display_name": "Python 3",
   "language": "python",
   "name": "python3"
  },
  "language_info": {
   "codemirror_mode": {
    "name": "ipython",
    "version": 3
   },
   "file_extension": ".py",
   "mimetype": "text/x-python",
   "name": "python",
   "nbconvert_exporter": "python",
   "pygments_lexer": "ipython3",
   "version": "3.12.4"
  }
 },
 "nbformat": 4,
 "nbformat_minor": 5
}
